{
 "cells": [
  {
   "cell_type": "code",
   "execution_count": 1,
   "id": "2d926f5a",
   "metadata": {},
   "outputs": [
    {
     "name": "stdout",
     "output_type": "stream",
     "text": [
      " Volume in drive C has no label.\n",
      " Volume Serial Number is 42A1-D0EE\n",
      "\n",
      " Directory of C:\\Users\\Dell\\Documents\\DataTalks.Club\\Data Engineering Project\\USAEdData_Project\n",
      "\n",
      "05/31/2023  09:43 AM    <DIR>          .\n",
      "05/31/2023  09:43 AM    <DIR>          ..\n",
      "05/30/2023  12:37 PM                 8 .gitignore\n",
      "05/31/2023  09:43 AM    <DIR>          .ipynb_checkpoints\n",
      "05/30/2023  12:25 PM    <DIR>          files\n",
      "05/30/2023  12:29 PM             1,628 Ingestfile.py\n",
      "05/30/2023  12:16 PM                95 README.md\n",
      "05/30/2023  12:21 PM               197 requirements.txt\n",
      "05/31/2023  09:43 AM                72 Untitled.ipynb\n",
      "               5 File(s)          2,000 bytes\n",
      "               4 Dir(s)  131,097,890,816 bytes free\n"
     ]
    }
   ],
   "source": [
    "ls"
   ]
  },
  {
   "cell_type": "code",
   "execution_count": 2,
   "id": "3d202f93",
   "metadata": {},
   "outputs": [
    {
     "name": "stdout",
     "output_type": "stream",
     "text": [
      "C:\\Users\\Dell\\Documents\\DataTalks.Club\\Data Engineering Project\\USAEdData_Project\\files\n"
     ]
    }
   ],
   "source": [
    "cd files"
   ]
  },
  {
   "cell_type": "code",
   "execution_count": 3,
   "id": "3519d381",
   "metadata": {},
   "outputs": [
    {
     "name": "stdout",
     "output_type": "stream",
     "text": [
      " Volume in drive C has no label.\n",
      " Volume Serial Number is 42A1-D0EE\n",
      "\n",
      " Directory of C:\\Users\\Dell\\Documents\\DataTalks.Club\\Data Engineering Project\\USAEdData_Project\\files\n",
      "\n",
      "05/30/2023  12:25 PM    <DIR>          .\n",
      "05/30/2023  12:25 PM    <DIR>          ..\n",
      "05/30/2023  12:25 PM       239,355,099 Most-Recent-Cohorts-Institution.csv\n",
      "05/30/2023  12:25 PM        24,426,670 Most-Recent-Cohorts-Institution_04192023.zip\n",
      "               2 File(s)    263,781,769 bytes\n",
      "               2 Dir(s)  131,097,845,760 bytes free\n"
     ]
    }
   ],
   "source": [
    "ls\n"
   ]
  },
  {
   "cell_type": "code",
   "execution_count": 4,
   "id": "9bc81615",
   "metadata": {},
   "outputs": [],
   "source": [
    "import pandas as pd"
   ]
  },
  {
   "cell_type": "code",
   "execution_count": 5,
   "id": "76a516dd",
   "metadata": {},
   "outputs": [
    {
     "name": "stderr",
     "output_type": "stream",
     "text": [
      "C:\\Users\\Dell\\AppData\\Local\\Temp\\ipykernel_14636\\919661160.py:1: DtypeWarning: Columns (9,1537,1540,1542,1606,1608,1614,1615,1619,1620,1621,1622,1623,1624,1625,1626,1627,1628,1629,1703,1704,1725,1726,1727,1728,1729,1743,1815,1816,1817,1818,1823,1824,1830,1831,1879,1880,1881,1882,1883,1884,1885,1886,1887,1888,1889,1890,1891,1892,1893,1894,1895,1896,1897,1898,1909,1910,1911,1912,1913,1957,1958,1959,1960,1961,1962,1963,1964,1965,1966,1967,1968,1969,1970,1971,1972,1973,1974,1975,1976,1983,1984,2376,2377,2403,2404,2495,2496,2497,2498,2499,2500,2501,2502,2503,2504,2505,2506,2507,2508,2509,2510,2511,2512,2513,2514,2515,2516,2517,2518,2519,2520,2521,2522,2523,2524,2525,2526,2527,2528,2529,2530,2958) have mixed types. Specify dtype option on import or set low_memory=False.\n",
      "  df = pd.read_csv(\"Most-Recent-Cohorts-Institution.csv\")\n"
     ]
    }
   ],
   "source": [
    "df = pd.read_csv(\"Most-Recent-Cohorts-Institution.csv\")"
   ]
  },
  {
   "cell_type": "code",
   "execution_count": 6,
   "id": "da466f64",
   "metadata": {},
   "outputs": [
    {
     "name": "stderr",
     "output_type": "stream",
     "text": [
      "C:\\Users\\Dell\\AppData\\Local\\Temp\\ipykernel_14636\\2282515649.py:1: DtypeWarning: Columns (9) have mixed types. Specify dtype option on import or set low_memory=False.\n",
      "  df = pd.read_csv('Most-Recent-Cohorts-Institution.csv', usecols=range(23))\n"
     ]
    }
   ],
   "source": [
    "df = pd.read_csv('Most-Recent-Cohorts-Institution.csv', usecols=range(23))"
   ]
  },
  {
   "cell_type": "code",
   "execution_count": 7,
   "id": "2c656a25",
   "metadata": {},
   "outputs": [
    {
     "name": "stderr",
     "output_type": "stream",
     "text": [
      "C:\\Users\\Dell\\AppData\\Local\\Temp\\ipykernel_14636\\3466462132.py:1: DtypeWarning: Columns (9) have mixed types. Specify dtype option on import or set low_memory=False.\n",
      "  df = pd.read_csv('Most-Recent-Cohorts-Institution.csv', usecols=range(23), dtype={'column_9': str})\n"
     ]
    }
   ],
   "source": [
    "df = pd.read_csv('Most-Recent-Cohorts-Institution.csv', usecols=range(23), dtype={'column_9': str})"
   ]
  },
  {
   "cell_type": "code",
   "execution_count": 8,
   "id": "42d2a7c9",
   "metadata": {},
   "outputs": [],
   "source": [
    "df = pd.read_csv('Most-Recent-Cohorts-Institution.csv', usecols=range(23), low_memory=False)"
   ]
  },
  {
   "cell_type": "code",
   "execution_count": 9,
   "id": "7198c9b2",
   "metadata": {},
   "outputs": [
    {
     "name": "stdout",
     "output_type": "stream",
     "text": [
      "['UNITID', 'OPEID', 'OPEID6', 'INSTNM', 'CITY', 'STABBR', 'ZIP', 'ACCREDAGENCY', 'INSTURL', 'NPCURL', 'SCH_DEG', 'HCM2', 'MAIN', 'NUMBRANCH', 'PREDDEG', 'HIGHDEG', 'CONTROL', 'ST_FIPS', 'REGION', 'LOCALE', 'LOCALE2', 'LATITUDE', 'LONGITUDE']\n",
      "UNITID            int64\n",
      "OPEID           float64\n",
      "OPEID6          float64\n",
      "INSTNM           object\n",
      "CITY             object\n",
      "STABBR           object\n",
      "ZIP              object\n",
      "ACCREDAGENCY     object\n",
      "INSTURL          object\n",
      "NPCURL           object\n",
      "SCH_DEG         float64\n",
      "HCM2              int64\n",
      "MAIN              int64\n",
      "NUMBRANCH         int64\n",
      "PREDDEG           int64\n",
      "HIGHDEG           int64\n",
      "CONTROL           int64\n",
      "ST_FIPS           int64\n",
      "REGION            int64\n",
      "LOCALE          float64\n",
      "LOCALE2         float64\n",
      "LATITUDE        float64\n",
      "LONGITUDE       float64\n",
      "dtype: object\n"
     ]
    }
   ],
   "source": [
    "print(df.columns.tolist())  # Print the list of column headers\n",
    "print(df.dtypes)  # Print the schema (data types) of the columns"
   ]
  },
  {
   "cell_type": "code",
   "execution_count": 10,
   "id": "da9874b3",
   "metadata": {},
   "outputs": [
    {
     "name": "stdout",
     "output_type": "stream",
     "text": [
      "UNITID            int32\n",
      "OPEID           float64\n",
      "OPEID6          float64\n",
      "INSTNM           object\n",
      "CITY             object\n",
      "STABBR           object\n",
      "ZIP              object\n",
      "ACCREDAGENCY     object\n",
      "INSTURL          object\n",
      "NPCURL           object\n",
      "SCH_DEG         float64\n",
      "HCM2              int32\n",
      "MAIN              int32\n",
      "NUMBRANCH         int32\n",
      "PREDDEG           int32\n",
      "HIGHDEG           int32\n",
      "CONTROL           int32\n",
      "ST_FIPS           int32\n",
      "REGION            int32\n",
      "LOCALE          float64\n",
      "LOCALE2         float64\n",
      "LATITUDE        float64\n",
      "LONGITUDE       float64\n",
      "dtype: object\n"
     ]
    }
   ],
   "source": [
    "# Define the desired data types for the columns\n",
    "dtypes = {\n",
    "    'UNITID': int,\n",
    "    'OPEID': float,\n",
    "    'OPEID6': float,\n",
    "    'INSTNM': str,\n",
    "    'CITY': str,\n",
    "    'STABBR': str,\n",
    "    'ZIP': str,\n",
    "    'ACCREDAGENCY': str,\n",
    "    'INSTURL': str,\n",
    "    'NPCURL': str,\n",
    "    'SCH_DEG': float,\n",
    "    'HCM2': int,\n",
    "    'MAIN': int,\n",
    "    'NUMBRANCH': int,\n",
    "    'PREDDEG': int,\n",
    "    'HIGHDEG': int,\n",
    "    'CONTROL': int,\n",
    "    'ST_FIPS': int,\n",
    "    'REGION': int,\n",
    "    'LOCALE': float,\n",
    "    'LOCALE2': float,\n",
    "    'LATITUDE': float,\n",
    "    'LONGITUDE': float\n",
    "}\n",
    "\n",
    "# Convert the columns to the desired data types\n",
    "df = df.astype(dtypes)\n",
    "\n",
    "# Display the updated dataframe with the new data types\n",
    "print(df.dtypes)"
   ]
  },
  {
   "cell_type": "code",
   "execution_count": 4,
   "id": "3c908c3c",
   "metadata": {},
   "outputs": [
    {
     "ename": "SyntaxError",
     "evalue": "invalid syntax (2262700738.py, line 1)",
     "output_type": "error",
     "traceback": [
      "\u001b[1;36m  File \u001b[1;32m\"C:\\Users\\Dell\\AppData\\Local\\Temp\\ipykernel_11620\\2262700738.py\"\u001b[1;36m, line \u001b[1;32m1\u001b[0m\n\u001b[1;33m    jupyter nbconvert --to script Transform.ipynb\u001b[0m\n\u001b[1;37m            ^\u001b[0m\n\u001b[1;31mSyntaxError\u001b[0m\u001b[1;31m:\u001b[0m invalid syntax\n"
     ]
    }
   ],
   "source": [
    "jupyter nbconvert --to script Transform.ipynb"
   ]
  },
  {
   "cell_type": "code",
   "execution_count": 2,
   "id": "153d4990",
   "metadata": {},
   "outputs": [
    {
     "data": {
      "text/plain": [
       "'C:\\\\Users\\\\Dell\\\\Documents\\\\DataTalks.Club\\\\Data Engineering Project\\\\USAEdData_Project'"
      ]
     },
     "execution_count": 2,
     "metadata": {},
     "output_type": "execute_result"
    }
   ],
   "source": [
    "pwd\n"
   ]
  },
  {
   "cell_type": "code",
   "execution_count": 3,
   "id": "b426bdd8",
   "metadata": {},
   "outputs": [
    {
     "name": "stdout",
     "output_type": "stream",
     "text": [
      " Volume in drive C has no label.\n",
      " Volume Serial Number is 42A1-D0EE\n",
      "\n",
      " Directory of C:\\Users\\Dell\\Documents\\DataTalks.Club\\Data Engineering Project\\USAEdData_Project\n",
      "\n",
      "06/01/2023  04:31 PM    <DIR>          .\n",
      "06/01/2023  04:31 PM    <DIR>          ..\n",
      "05/30/2023  12:37 PM                 8 .gitignore\n",
      "05/31/2023  10:17 AM    <DIR>          .ipynb_checkpoints\n",
      "05/30/2023  12:25 PM    <DIR>          files\n",
      "05/30/2023  12:29 PM             1,628 Ingestfile.py\n",
      "05/30/2023  12:16 PM                95 README.md\n",
      "05/30/2023  12:21 PM               197 requirements.txt\n",
      "06/01/2023  04:31 PM             9,844 Transform.ipynb\n",
      "               5 File(s)         11,772 bytes\n",
      "               4 Dir(s)  131,234,234,368 bytes free\n"
     ]
    }
   ],
   "source": [
    "ls"
   ]
  },
  {
   "cell_type": "code",
   "execution_count": 5,
   "id": "3ae31886",
   "metadata": {},
   "outputs": [],
   "source": [
    "import nbformat\n",
    "from nbformat.v4 import output_from_msg\n",
    "import pandas as pd\n",
    "\n",
    "def notebook_to_script(notebook_file, script_file):\n",
    "    notebook = nbformat.read(notebook_file, as_version=4)\n",
    "    code_cells = [cell.source for cell in notebook.cells if cell.cell_type == 'code']\n",
    "    script = '\\n'.join(code_cells)\n",
    "\n",
    "    with open(script_file, 'w') as file:\n",
    "        file.write(script)\n",
    "\n",
    "# Specify the paths of the notebook and script files\n",
    "notebook_file = 'Transform.ipynb'\n",
    "script_file = 'Transform.py'\n",
    "\n",
    "# Convert the notebook to a script\n",
    "notebook_to_script(notebook_file, script_file)\n"
   ]
  },
  {
   "cell_type": "code",
   "execution_count": null,
   "id": "74432c13",
   "metadata": {},
   "outputs": [],
   "source": []
  }
 ],
 "metadata": {
  "kernelspec": {
   "display_name": "Python 3 (ipykernel)",
   "language": "python",
   "name": "python3"
  },
  "language_info": {
   "codemirror_mode": {
    "name": "ipython",
    "version": 3
   },
   "file_extension": ".py",
   "mimetype": "text/x-python",
   "name": "python",
   "nbconvert_exporter": "python",
   "pygments_lexer": "ipython3",
   "version": "3.9.13"
  }
 },
 "nbformat": 4,
 "nbformat_minor": 5
}
